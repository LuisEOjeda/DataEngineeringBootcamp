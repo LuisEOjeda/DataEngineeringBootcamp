{
 "cells": [
  {
   "cell_type": "code",
   "execution_count": 252,
   "id": "1ae397ba-223a-4d24-b1d1-ca95a7fe6abf",
   "metadata": {},
   "outputs": [],
   "source": [
    "#Use this dictionary to store your answers in the correct format in the cells below , do not modify the keys\n",
    "answer_dict =  {\"Q1\" : None,\n",
    "                \"Q2\" : None,\n",
    "                \"Q3\" : None,\n",
    "                \"Q4\" : None,\n",
    "                \"Q5\" : None,\n",
    "                \"Q6\" : None,\n",
    "                \"Q7\" : None}"
   ]
  },
  {
   "cell_type": "code",
   "execution_count": 1,
   "id": "a80dee16-bf0e-4bad-bce4-bbcd216c1fcc",
   "metadata": {},
   "outputs": [],
   "source": [
    "import pandas as pd\n",
    "import numpy as np\n",
    "url='https://drive.google.com/file/d/1PCJ7ltluquoXKi6MYTPMfwZQNI_-MIFP/view?usp=sharing'\n",
    "url='https://drive.google.com/uc?id=' + url.split('/')[-2]\n",
    "df = pd.read_csv(url)"
   ]
  },
  {
   "cell_type": "code",
   "execution_count": 2,
   "id": "34488bd6-9f51-4a40-93f7-8178316462c3",
   "metadata": {},
   "outputs": [
    {
     "data": {
      "text/html": [
       "<div>\n",
       "<style scoped>\n",
       "    .dataframe tbody tr th:only-of-type {\n",
       "        vertical-align: middle;\n",
       "    }\n",
       "\n",
       "    .dataframe tbody tr th {\n",
       "        vertical-align: top;\n",
       "    }\n",
       "\n",
       "    .dataframe thead th {\n",
       "        text-align: right;\n",
       "    }\n",
       "</style>\n",
       "<table border=\"1\" class=\"dataframe\">\n",
       "  <thead>\n",
       "    <tr style=\"text-align: right;\">\n",
       "      <th></th>\n",
       "      <th>Make</th>\n",
       "      <th>Model</th>\n",
       "      <th>Year</th>\n",
       "      <th>Engine Displacement</th>\n",
       "      <th>Cylinders</th>\n",
       "      <th>Transmission</th>\n",
       "      <th>Drivetrain</th>\n",
       "      <th>Vehicle Class</th>\n",
       "      <th>Fuel Type</th>\n",
       "      <th>Fuel Barrels/Year</th>\n",
       "      <th>City MPG</th>\n",
       "      <th>Highway MPG</th>\n",
       "      <th>Combined MPG</th>\n",
       "      <th>CO2 Emission Grams/Mile</th>\n",
       "      <th>Fuel Cost/Year</th>\n",
       "    </tr>\n",
       "  </thead>\n",
       "  <tbody>\n",
       "    <tr>\n",
       "      <th>0</th>\n",
       "      <td>AM General</td>\n",
       "      <td>DJ Po Vehicle 2WD</td>\n",
       "      <td>1984</td>\n",
       "      <td>2.5</td>\n",
       "      <td>4.0</td>\n",
       "      <td>Automatic 3-spd</td>\n",
       "      <td>2-Wheel Drive</td>\n",
       "      <td>Special Purpose Vehicle 2WD</td>\n",
       "      <td>Regular</td>\n",
       "      <td>19.388824</td>\n",
       "      <td>18</td>\n",
       "      <td>17</td>\n",
       "      <td>17</td>\n",
       "      <td>522.764706</td>\n",
       "      <td>1950</td>\n",
       "    </tr>\n",
       "    <tr>\n",
       "      <th>1</th>\n",
       "      <td>AM General</td>\n",
       "      <td>FJ8c Post Office</td>\n",
       "      <td>1984</td>\n",
       "      <td>4.2</td>\n",
       "      <td>6.0</td>\n",
       "      <td>Automatic 3-spd</td>\n",
       "      <td>2-Wheel Drive</td>\n",
       "      <td>Special Purpose Vehicle 2WD</td>\n",
       "      <td>Regular</td>\n",
       "      <td>25.354615</td>\n",
       "      <td>13</td>\n",
       "      <td>13</td>\n",
       "      <td>13</td>\n",
       "      <td>683.615385</td>\n",
       "      <td>2550</td>\n",
       "    </tr>\n",
       "    <tr>\n",
       "      <th>2</th>\n",
       "      <td>AM General</td>\n",
       "      <td>Post Office DJ5 2WD</td>\n",
       "      <td>1985</td>\n",
       "      <td>2.5</td>\n",
       "      <td>4.0</td>\n",
       "      <td>Automatic 3-spd</td>\n",
       "      <td>Rear-Wheel Drive</td>\n",
       "      <td>Special Purpose Vehicle 2WD</td>\n",
       "      <td>Regular</td>\n",
       "      <td>20.600625</td>\n",
       "      <td>16</td>\n",
       "      <td>17</td>\n",
       "      <td>16</td>\n",
       "      <td>555.437500</td>\n",
       "      <td>2100</td>\n",
       "    </tr>\n",
       "    <tr>\n",
       "      <th>3</th>\n",
       "      <td>AM General</td>\n",
       "      <td>Post Office DJ8 2WD</td>\n",
       "      <td>1985</td>\n",
       "      <td>4.2</td>\n",
       "      <td>6.0</td>\n",
       "      <td>Automatic 3-spd</td>\n",
       "      <td>Rear-Wheel Drive</td>\n",
       "      <td>Special Purpose Vehicle 2WD</td>\n",
       "      <td>Regular</td>\n",
       "      <td>25.354615</td>\n",
       "      <td>13</td>\n",
       "      <td>13</td>\n",
       "      <td>13</td>\n",
       "      <td>683.615385</td>\n",
       "      <td>2550</td>\n",
       "    </tr>\n",
       "    <tr>\n",
       "      <th>4</th>\n",
       "      <td>ASC Incorporated</td>\n",
       "      <td>GNX</td>\n",
       "      <td>1987</td>\n",
       "      <td>3.8</td>\n",
       "      <td>6.0</td>\n",
       "      <td>Automatic 4-spd</td>\n",
       "      <td>Rear-Wheel Drive</td>\n",
       "      <td>Midsize Cars</td>\n",
       "      <td>Premium</td>\n",
       "      <td>20.600625</td>\n",
       "      <td>14</td>\n",
       "      <td>21</td>\n",
       "      <td>16</td>\n",
       "      <td>555.437500</td>\n",
       "      <td>2550</td>\n",
       "    </tr>\n",
       "  </tbody>\n",
       "</table>\n",
       "</div>"
      ],
      "text/plain": [
       "               Make                Model  Year  Engine Displacement  \\\n",
       "0        AM General    DJ Po Vehicle 2WD  1984                  2.5   \n",
       "1        AM General     FJ8c Post Office  1984                  4.2   \n",
       "2        AM General  Post Office DJ5 2WD  1985                  2.5   \n",
       "3        AM General  Post Office DJ8 2WD  1985                  4.2   \n",
       "4  ASC Incorporated                  GNX  1987                  3.8   \n",
       "\n",
       "   Cylinders     Transmission        Drivetrain                Vehicle Class  \\\n",
       "0        4.0  Automatic 3-spd     2-Wheel Drive  Special Purpose Vehicle 2WD   \n",
       "1        6.0  Automatic 3-spd     2-Wheel Drive  Special Purpose Vehicle 2WD   \n",
       "2        4.0  Automatic 3-spd  Rear-Wheel Drive  Special Purpose Vehicle 2WD   \n",
       "3        6.0  Automatic 3-spd  Rear-Wheel Drive  Special Purpose Vehicle 2WD   \n",
       "4        6.0  Automatic 4-spd  Rear-Wheel Drive                 Midsize Cars   \n",
       "\n",
       "  Fuel Type  Fuel Barrels/Year  City MPG  Highway MPG  Combined MPG  \\\n",
       "0   Regular          19.388824        18           17            17   \n",
       "1   Regular          25.354615        13           13            13   \n",
       "2   Regular          20.600625        16           17            16   \n",
       "3   Regular          25.354615        13           13            13   \n",
       "4   Premium          20.600625        14           21            16   \n",
       "\n",
       "   CO2 Emission Grams/Mile  Fuel Cost/Year  \n",
       "0               522.764706            1950  \n",
       "1               683.615385            2550  \n",
       "2               555.437500            2100  \n",
       "3               683.615385            2550  \n",
       "4               555.437500            2550  "
      ]
     },
     "execution_count": 2,
     "metadata": {},
     "output_type": "execute_result"
    }
   ],
   "source": [
    "df.head()"
   ]
  },
  {
   "cell_type": "code",
   "execution_count": 3,
   "id": "d2c1e8b1-7096-49d0-a4c3-c84b024f2201",
   "metadata": {},
   "outputs": [
    {
     "name": "stdout",
     "output_type": "stream",
     "text": [
      "<class 'pandas.core.frame.DataFrame'>\n",
      "RangeIndex: 35952 entries, 0 to 35951\n",
      "Data columns (total 15 columns):\n",
      " #   Column                   Non-Null Count  Dtype  \n",
      "---  ------                   --------------  -----  \n",
      " 0   Make                     35952 non-null  object \n",
      " 1   Model                    35952 non-null  object \n",
      " 2   Year                     35952 non-null  int64  \n",
      " 3   Engine Displacement      35952 non-null  float64\n",
      " 4   Cylinders                35952 non-null  float64\n",
      " 5   Transmission             35952 non-null  object \n",
      " 6   Drivetrain               35952 non-null  object \n",
      " 7   Vehicle Class            35952 non-null  object \n",
      " 8   Fuel Type                35952 non-null  object \n",
      " 9   Fuel Barrels/Year        35952 non-null  float64\n",
      " 10  City MPG                 35952 non-null  int64  \n",
      " 11  Highway MPG              35952 non-null  int64  \n",
      " 12  Combined MPG             35952 non-null  int64  \n",
      " 13  CO2 Emission Grams/Mile  35952 non-null  float64\n",
      " 14  Fuel Cost/Year           35952 non-null  int64  \n",
      "dtypes: float64(4), int64(5), object(6)\n",
      "memory usage: 4.1+ MB\n"
     ]
    }
   ],
   "source": [
    "df.info()"
   ]
  },
  {
   "cell_type": "code",
   "execution_count": 210,
   "id": "5f85cc40-2660-4e36-9704-c206876042d9",
   "metadata": {},
   "outputs": [],
   "source": [
    "#Q1. What is the average CO2 emmission per gram/mile of all Volkswagen cars?\n",
    "#Format: A floating number\n",
    "#Example answer:\n",
    "#11.547"
   ]
  },
  {
   "cell_type": "code",
   "execution_count": 254,
   "id": "147e0d69-622a-4c2e-8e09-a073ad77ed50",
   "metadata": {},
   "outputs": [
    {
     "name": "stdout",
     "output_type": "stream",
     "text": [
      "CO2 Emission Grams/Mile    392.741721\n",
      "dtype: float64\n"
     ]
    }
   ],
   "source": [
    "########## Q1\n",
    "#Your code here\n",
    "#filter columns required\n",
    "full=df[[\"Make\", \"CO2 Emission Grams/Mile\"]]\n",
    "#filter by brand\n",
    "vw=full[full[\"Make\"] == \"Volkswagen\"]\n",
    "\n",
    "#get the mean fo the data\n",
    "print(vw.mean(numeric_only=True))\n",
    "\n",
    "#Example answer:\n",
    "answer_dict[\"Q1\"] =  392.741721"
   ]
  },
  {
   "cell_type": "code",
   "execution_count": null,
   "id": "36ba0e4a-49d8-46aa-940e-320947877714",
   "metadata": {},
   "outputs": [],
   "source": [
    "#Q2. Calculate the top 5 brands(Make) with the most unique models, order your answer in descending order with respect to the number of unique models.\n",
    "#NOTE: Consider only the name of the models and their brand, that is use only the Make and Model columns\n",
    "#Format: A 5X2 list with each row being the name of the brand followed by the unique number of models, in descending order.\n",
    "#Hint: You can use the pandas df.values.tolist() function to format your answer."
   ]
  },
  {
   "cell_type": "code",
   "execution_count": 233,
   "id": "2f62a920-a9d2-4855-9197-8265398dda93",
   "metadata": {},
   "outputs": [
    {
     "name": "stdout",
     "output_type": "stream",
     "text": [
      "[['GMC', 163], ['Ford', 185], ['Chevrolet', 253], ['BMW', 284], ['Mercedes-Benz', 333]]\n"
     ]
    }
   ],
   "source": [
    "########## Q2\n",
    "\n",
    "#remove duplicate make model\n",
    "make_model=df[['Make', 'Model']].drop_duplicates()\n",
    "\n",
    "#count unique models, sort by asc and get 5 largest\n",
    "count_unique=make_model.groupby('Make')['Model'].nunique().nlargest(5).sort_values(ascending=True).reset_index()\n",
    "\n",
    "#output values as list\n",
    "print(count_unique.values.tolist())\n",
    "\n",
    "answer_dict[\"Q2\"] =  [['GMC', 163], ['Ford', 185], ['Chevrolet', 253], ['BMW', 284], ['Mercedes-Benz', 333]]"
   ]
  },
  {
   "cell_type": "code",
   "execution_count": 235,
   "id": "1055c3a8-a99a-4d73-836f-ee34c774f0f6",
   "metadata": {},
   "outputs": [
    {
     "name": "stdout",
     "output_type": "stream",
     "text": [
      "['CNG', 'Diesel', 'Gasoline or E85', 'Gasoline or natural gas', 'Gasoline or propane', 'Midgrade', 'Premium', 'Premium Gas or Electricity', 'Premium and Electricity', 'Premium or E85', 'Regular', 'Regular Gas and Electricity', 'Regular Gas or Electricity']\n"
     ]
    }
   ],
   "source": [
    "########## Q3\n",
    "\n",
    "#get unique fuel types\n",
    "typesoffuel=df[\"Fuel Type\"].unique()\n",
    "print(sorted(typesoffuel))\n",
    "\n",
    "#Example answer:\n",
    "answer_dict[\"Q3\"] =  ['CNG', 'Diesel', 'Gasoline or E85', 'Gasoline or natural gas', 'Gasoline or propane', 'Midgrade', 'Premium', 'Premium Gas or Electricity', 'Premium and Electricity', 'Premium or E85', 'Regular', 'Regular Gas and Electricity', 'Regular Gas or Electricity']"
   ]
  },
  {
   "cell_type": "code",
   "execution_count": null,
   "id": "ea9aea82-9cfa-47fa-b3f6-d463ec98048d",
   "metadata": {},
   "outputs": [],
   "source": [
    "#Q4. Show the 9 Toyota cars with the most extreme Fuel Barrels/Year in abosolute terms within all Toyota cars. Show the car Model, Year and their Fuel Barrels/Year in standard deviation units(Z-score) sorted in descending order by their Fuel Barrels/Year in absolute terms first and then by year in descending order BUT without modifying the negative values (see example)."
   ]
  },
  {
   "cell_type": "code",
   "execution_count": null,
   "id": "8ec6a80e-92b5-41e3-80e3-136e254605f3",
   "metadata": {},
   "outputs": [],
   "source": [
    "#Format: A 9X3 list with each row containing the Model, Year and Fuel Barrels/Year in standard deviations units\n",
    "#Example answer:\n",
    "# [['DJ Po Vehicle 2WD', 2004, -6.407431084026927],\n",
    "# ['FJ8c Post Office', 2003, -6.407431084026927],\n",
    "# ['Post Office DJ5 2WD', 2005, -6.391684618442447],\n",
    "# ['Sierra 2500 Hd 2WD', 2002, -6.391684618442447],\n",
    "# ['Camry CNG', 2012, 2.677633075759575],\n",
    "# ['Sierra 1500 4WD', 2005, 2.677633075759575],\n",
    "# ['Sierra 1500 4WD', 2001, 2.677633075759575],\n",
    "# ['V15 Suburban 4WD', 1988, 2.677633075759575],\n",
    "# ['V15 Suburban 4WD', 1987, 2.677633075759575]]"
   ]
  },
  {
   "cell_type": "code",
   "execution_count": 232,
   "id": "c7efe89a-d01e-464b-90a7-a37de42560cf",
   "metadata": {
    "scrolled": true
   },
   "outputs": [
    {
     "name": "stdout",
     "output_type": "stream",
     "text": [
      "                        Model  Year  Fuel Barrels/Year\n",
      "33102  Land Cruiser Wagon 4WD  1984          29.964545\n",
      "32467             Cab/Chassis  1986          27.467500\n",
      "32469         Cab/Chassis 2WD  1987          27.467500\n",
      "33548                T100 4WD  1994          23.543571\n",
      "33396             Sequoia 2WD  2001          23.543571\n",
      "33417             Sequoia 4WD  2001          23.543571\n",
      "33439         Sequoia 4WD FFV  2010          23.543571\n",
      "33990          Tundra 2WD FFV  2016          21.974000\n",
      "34032          Tundra 4WD FFV  2010          21.974000\n"
     ]
    }
   ],
   "source": [
    "########## Q4\n",
    "#Your code here\n",
    "#toyotamodels=df[\"Make\"] ==\"Volkswagen\" & df[[\"Model\", \"Year\", \"Fuel Barrels/Year\"]]\n",
    "\n",
    "import scipy.stats as stats\n",
    "#columns=df[[\"Make\",\"Model\", \"Year\", \"Fuel Barrels/Year\"]]\n",
    "#toyotamodels=columns[columns[\"Make\"] == \"Toyota\"]\n",
    "#model_year_fuel=toyotamodels[[\"Model\", \"Year\", \"Fuel Barrels/Year\"]]\n",
    "#zscore=model_year_fuel[\"Fuel Barrels/Year/zscore\"] = stats.zscore(model_year_fuel['Fuel Barrels/Year'])\n",
    "\n",
    "columns=df[[\"Make\",\"Model\", \"Year\", 'Fuel Barrels/Year']]\n",
    "toyotamodels=columns[columns[\"Make\"] == \"Toyota\"]\n",
    "model_year_fuel=toyotamodels[[\"Model\", \"Year\",'Fuel Barrels/Year']]\n",
    "\n",
    "#remove duplicates to have unique models\n",
    "rmdup=model_year_fuel.drop_duplicates(['Model'],keep='first')\n",
    "#print(rmdup)\n",
    "\n",
    "#sort by largest\n",
    "sort_asc=rmdup.sort_values(['Fuel Barrels/Year'], ascending=(False))\n",
    "print(sort_asc.head(9))\n",
    "\n",
    "#get the nlargest by fuel barrels\n",
    "#B.transform('std')\n",
    "#grouped_models=model_year_fuel.groupby(['Model','Year']).Fuel Barrels/Year.transform('std')\n",
    "#grouped_models=model_year_fuel.groupby('Model')['Fuel Barrels/Year'].nlargest(9)\n",
    "#print(grouped_models)\n",
    "\n",
    "\n",
    "#get z-score\n",
    "#zscore=rmdup['zscore']=zscore(rmdup['Fuel Barrels/Year'])\n",
    "#zscore=sort_asc[\"zscore\"] = stats.zscore(toyotamodels['Fuel Barrels/Year'])\n",
    "#zscore=model_year_fuel['Fuel Barrels/Year'].std(axis=1) \n",
    "\n",
    "#zscore=model_year_fuel[\"Fuel Barrels/Year/zscore\"] = stats.zscore(toyotamodels['Fuel Barrels/Year'])\n",
    "#print(zscore)\n",
    "\n",
    "#zscore_fuelbarrels=model_year_fuel['zscore'] = stats.zcore(model_year_fuel[\"Fuel Barrels/Year\"])\n",
    "#zscore_fuelbarrels=stats.zscore(model_year_fuel['Fuel Barrels/Year'])\n",
    "#print(zscore_fuelbarrels)\n",
    "#extreme_fuel=\n",
    "#print(model_year_fuel)\n",
    "\n",
    "\n",
    "#zscore=model_year_fuel[\"Fuel Barrels/Year/zscore\"] = stats.zscore(toyotamodels['Fuel Barrels/Year'])\n",
    "#answer_dict[\"Q4\"] ="
   ]
  },
  {
   "cell_type": "code",
   "execution_count": null,
   "id": "81ad1da1-c23b-4fdc-ac39-bb299a101663",
   "metadata": {},
   "outputs": [],
   "source": [
    "#Q5. Calculate the changes in Combined MPG with their previous model of all Golf cars with Manual 5-spd transmission and Regular Fuel Type. Show the Year, the Combined MPG and the calculated difference of MPG in a list sorted by Year in ascending order.\n",
    "#Format: A 19X3 list, with the Year and Combined MPG being of type integer and only the calculated difference is of type float\n",
    "#Note: The value for the first model should be 0. It does not matter that there are gaps in the years, calculate with respect the previous model.\n",
    "#Example answer:\n",
    "# [[1986, 25, 0.0],\n",
    "# [1987, 25, 0.0],\n",
    "# [1988, 25, 0.0],\n",
    "# [1989, 25, 0.0],\n",
    "# [1990, 23, -2.0],\n",
    "# [1991, 23, 0.0],\n",
    "# [1992, 24, 1.0],\n",
    "# [1993, 25, 1.0],\n",
    "# [1994, 25, 0.0],\n",
    "# [1995, 25, 0.0],\n",
    "# [1996, 25, 0.0],\n",
    "# [1997, 25, 0.0],\n",
    "# [1998, 24, -1.0],\n",
    "# [1999, 25, 1.0],\n",
    "# [2000, 24, -1.0],\n",
    "# [2001, 24, 0.0],\n",
    "# [2002, 24, 0.0],\n",
    "# [2004, 24, 0.0],\n",
    "# [2006, 24, 0.0]]\n",
    "    "
   ]
  },
  {
   "cell_type": "code",
   "execution_count": 236,
   "id": "6293f73a-2730-4117-a8fa-d5234b7c1d17",
   "metadata": {},
   "outputs": [
    {
     "name": "stdout",
     "output_type": "stream",
     "text": [
      "[[1986.0, 26.0, 0.0], [1987.0, 26.0, 0.0], [1988.0, 25.0, -1.0], [1989.0, 25.0, 0.0], [1999.0, 24.0, -1.0], [2000.0, 24.0, 0.0], [2001.0, 24.0, 0.0], [2002.0, 24.0, 0.0], [2003.0, 24.0, 0.0], [2004.0, 24.0, 0.0], [2005.0, 24.0, 0.0], [2006.0, 24.0, 0.0], [2010.0, 25.0, 1.0], [2011.0, 26.0, 1.0], [2012.0, 26.0, 0.0], [2013.0, 26.0, 0.0], [2015.0, 30.0, 4.0], [2016.0, 30.0, 0.0], [2017.0, 29.0, -1.0]]\n"
     ]
    }
   ],
   "source": [
    "########## Q5\n",
    "#Your code here\n",
    "columns=df.loc[(df['Model'] ==\"Golf\") & (df[\"Transmission\"] ==\"Manual 5-spd\") & (df[\"Fuel Type\"] ==\"Regular\"), ['Year','Combined MPG']]\n",
    "sort_asc=columns.sort_values('Year',ascending=True)\n",
    "result=sort_asc['mpg_diff'] = sort_asc['Combined MPG'].diff().fillna(0)\n",
    "print(sort_asc.values.tolist())\n",
    "\n",
    "answer_dict[\"Q5\"] = [[1986.0, 26.0, 0.0], [1987.0, 26.0, 0.0], [1988.0, 25.0, -1.0], [1989.0, 25.0, 0.0], [1999.0, 24.0, -1.0], [2000.0, 24.0, 0.0], [2001.0, 24.0, 0.0], [2002.0, 24.0, 0.0], [2003.0, 24.0, 0.0], [2004.0, 24.0, 0.0], [2005.0, 24.0, 0.0], [2006.0, 24.0, 0.0], [2010.0, 25.0, 1.0], [2011.0, 26.0, 1.0], [2012.0, 26.0, 0.0], [2013.0, 26.0, 0.0], [2015.0, 30.0, 4.0], [2016.0, 30.0, 0.0], [2017.0, 29.0, -1.0]]"
   ]
  },
  {
   "cell_type": "code",
   "execution_count": null,
   "id": "f0796091-95f7-4382-8764-22b61b3b6a54",
   "metadata": {},
   "outputs": [],
   "source": [
    "#Q6. What are the top 5 lowest CO2 Emission Grams/Mile emmisions of cars for each of the following brands: Toyota, Ford, Volkswagen, Nissan, Honda\n",
    "#Format: A 5X6 list with the first element of each row being the Make of the cars and the following five values being floats sorted in ascending order. The Makes should appear in order listed in the question starting with Toyota and ending with Honda (see example).\n",
    "#Example answer:\n",
    "#[['Toyota', 100.0, 140.0, 140.0, 150.0, 150.0],\n",
    "# ['Ford',\n",
    "#  100.025641025641,\n",
    "#  200.677633075759575,\n",
    "#  200.677633075759575,\n",
    "#  200.677633075759575,\n",
    "#  200.677633075759575],\n",
    "# ['Volkswagen', 139.0, 154.0, 166.5, 166.5, 166.5],\n",
    "# ['Nissan', 122.0, 122.0, 122.0, 122.0, 160.0],\n",
    "# ['Honda', 100.0, 100.0, 100.0, 100.0, 123.91684618442447]]"
   ]
  },
  {
   "cell_type": "code",
   "execution_count": 251,
   "id": "15944de4-5895-4ccd-aff0-68b09dfd7feb",
   "metadata": {},
   "outputs": [
    {
     "name": "stdout",
     "output_type": "stream",
     "text": [
      "Make             \n",
      "Ford        13412    112.000000\n",
      "            11639    129.000000\n",
      "            13455    209.000000\n",
      "            13458    210.000000\n",
      "            13454    211.000000\n",
      "Honda       17059    130.000000\n",
      "            17522    167.679245\n",
      "            17530    170.903846\n",
      "            17058    183.000000\n",
      "            17056    188.000000\n",
      "Nissan      27201    249.000000\n",
      "            27198    254.000000\n",
      "            26830    254.500000\n",
      "            27204    255.000000\n",
      "            27207    257.000000\n",
      "Toyota      33281    133.000000\n",
      "            33279    158.000000\n",
      "            33277    170.000000\n",
      "            33278    171.000000\n",
      "            33271    177.740000\n",
      "Volkswagen  34664    200.000000\n",
      "            34714    261.025641\n",
      "            34383    267.894737\n",
      "            34642    271.000000\n",
      "            34474    275.135135\n",
      "Name: CO2 Emission Grams/Mile, dtype: float64\n"
     ]
    }
   ],
   "source": [
    "########## Q6\n",
    "\n",
    "#Your code here\n",
    "#filter the C02 Emission value and its Make (Brands) columns from df\n",
    "brand_emission=df[['Make','Model','CO2 Emission Grams/Mile']]\n",
    "#print(brand_emission)\n",
    "\n",
    "#get the specific list of brands (Make) that are required to be filtered\n",
    "brands=[\"Toyota\", \"Ford\", \"Volkswagen\", \"Nissan\", \"Honda\"]\n",
    "\n",
    "#filter the brand list from brand_emission\n",
    "specific_brands=brand_emission[brand_emission.Make.isin(brands)]\n",
    "#print(specific_brands)\n",
    "\n",
    "##ordenar C02 emission de menoar a mayor para encontrar las 5 menos emisiones\n",
    "sort_asc_top5=specific_brands.sort_values(['Make','CO2 Emission Grams/Mile'], ascending=(True,True))\n",
    "#print(sort_asc_top5)\n",
    "\n",
    "#remove duplicate cars\n",
    "rmdup=sort_asc_top5.drop_duplicates(['Make','CO2 Emission Grams/Mile'],keep='first')\n",
    "#print(rmdup)\n",
    "\n",
    "#group by Make Model to have lowest emissions\n",
    "##last attempet was same as another attempt\n",
    "grouped=rmdup.groupby(['Make'])['CO2 Emission Grams/Mile'].nsmallest(5)\n",
    "\n",
    "print(grouped)\n",
    "answer_dict[\"Q6\"] =[['Toyota',133.000000,158.000000,170.000000,171.000000,177.740000],['Ford',112.000000,129.000000,209.000000,210.000000,211.000000],['Volkswagen',200.000000,261.025641,267.894737,271.000000,275.135135],['Nissan',249.000000,254.000000,254.500000,255.000000,257.000000],['Honda',130.000000,167.679245,170.903846,183.000000,188.000000]]"
   ]
  },
  {
   "cell_type": "code",
   "execution_count": 255,
   "id": "8826cea0-bbd0-4ae5-9209-9c090ee0deef",
   "metadata": {},
   "outputs": [],
   "source": [
    "#Q7. Form 7 groups of 5 years to calculate the median Combined MPG of each group. The first group is from 1984 to 1988, the second from 1989 to 1993 and so on. The last group will have years not appearing in the dataset."
   ]
  },
  {
   "cell_type": "code",
   "execution_count": null,
   "id": "841bee45-ebdd-4f04-a837-2f79ac2a9253",
   "metadata": {},
   "outputs": [],
   "source": [
    "#Note: The groups ranges are inclusive on both sides, the first group starts with 1984 and cars from 1984 are included in it.\n",
    "#Format : A 7X2 list with the first element of each row being a tuple of two integers being the lower and upper range of the year groups and the esecond element being the median Combined MPG of that group, a float number.\n",
    "#Example answer:\n",
    "#[[(1984, 1988), 11.0],\n",
    "# [(1989, 1993), 10.0],\n",
    "# [(1994, 1998), 10.0],\n",
    "# [(1999, 2003), 14.0],\n",
    "# [(2004, 2008), 13.0],\n",
    "# [(2009, 2013), 14.0],\n",
    "# [(2014, 2018), 15.0]]"
   ]
  },
  {
   "cell_type": "code",
   "execution_count": 449,
   "id": "569b54c0-9c17-4d2b-802a-c7924ddda977",
   "metadata": {},
   "outputs": [
    {
     "ename": "KeyError",
     "evalue": "1988",
     "output_type": "error",
     "traceback": [
      "\u001b[1;31m---------------------------------------------------------------------------\u001b[0m",
      "\u001b[1;31mKeyError\u001b[0m                                  Traceback (most recent call last)",
      "File \u001b[1;32mD:\\anaconda3\\lib\\site-packages\\pandas\\core\\indexes\\base.py:3621\u001b[0m, in \u001b[0;36mIndex.get_loc\u001b[1;34m(self, key, method, tolerance)\u001b[0m\n\u001b[0;32m   3620\u001b[0m \u001b[38;5;28;01mtry\u001b[39;00m:\n\u001b[1;32m-> 3621\u001b[0m     \u001b[38;5;28;01mreturn\u001b[39;00m \u001b[38;5;28;43mself\u001b[39;49m\u001b[38;5;241;43m.\u001b[39;49m\u001b[43m_engine\u001b[49m\u001b[38;5;241;43m.\u001b[39;49m\u001b[43mget_loc\u001b[49m\u001b[43m(\u001b[49m\u001b[43mcasted_key\u001b[49m\u001b[43m)\u001b[49m\n\u001b[0;32m   3622\u001b[0m \u001b[38;5;28;01mexcept\u001b[39;00m \u001b[38;5;167;01mKeyError\u001b[39;00m \u001b[38;5;28;01mas\u001b[39;00m err:\n",
      "File \u001b[1;32mD:\\anaconda3\\lib\\site-packages\\pandas\\_libs\\index.pyx:136\u001b[0m, in \u001b[0;36mpandas._libs.index.IndexEngine.get_loc\u001b[1;34m()\u001b[0m\n",
      "File \u001b[1;32mD:\\anaconda3\\lib\\site-packages\\pandas\\_libs\\index.pyx:163\u001b[0m, in \u001b[0;36mpandas._libs.index.IndexEngine.get_loc\u001b[1;34m()\u001b[0m\n",
      "File \u001b[1;32mpandas\\_libs\\hashtable_class_helper.pxi:5198\u001b[0m, in \u001b[0;36mpandas._libs.hashtable.PyObjectHashTable.get_item\u001b[1;34m()\u001b[0m\n",
      "File \u001b[1;32mpandas\\_libs\\hashtable_class_helper.pxi:5206\u001b[0m, in \u001b[0;36mpandas._libs.hashtable.PyObjectHashTable.get_item\u001b[1;34m()\u001b[0m\n",
      "\u001b[1;31mKeyError\u001b[0m: 1988",
      "\nThe above exception was the direct cause of the following exception:\n",
      "\u001b[1;31mKeyError\u001b[0m                                  Traceback (most recent call last)",
      "Input \u001b[1;32mIn [450]\u001b[0m, in \u001b[0;36m<cell line: 9>\u001b[1;34m()\u001b[0m\n\u001b[0;32m      7\u001b[0m years1\u001b[38;5;241m=\u001b[39myear\u001b[38;5;241m+\u001b[39m\u001b[38;5;241m5\u001b[39m\n\u001b[0;32m      8\u001b[0m years2\u001b[38;5;241m=\u001b[39myear\u001b[38;5;241m+\u001b[39m\u001b[38;5;241m4\u001b[39m\n\u001b[1;32m----> 9\u001b[0m \u001b[43mdf\u001b[49m\u001b[43m[\u001b[49m\u001b[43myears1\u001b[49m\u001b[43m \u001b[49m\u001b[38;5;241;43m&\u001b[39;49m\u001b[43m \u001b[49m\u001b[43myears2\u001b[49m\u001b[43m]\u001b[49m\n",
      "File \u001b[1;32mD:\\anaconda3\\lib\\site-packages\\pandas\\core\\frame.py:3505\u001b[0m, in \u001b[0;36mDataFrame.__getitem__\u001b[1;34m(self, key)\u001b[0m\n\u001b[0;32m   3503\u001b[0m \u001b[38;5;28;01mif\u001b[39;00m \u001b[38;5;28mself\u001b[39m\u001b[38;5;241m.\u001b[39mcolumns\u001b[38;5;241m.\u001b[39mnlevels \u001b[38;5;241m>\u001b[39m \u001b[38;5;241m1\u001b[39m:\n\u001b[0;32m   3504\u001b[0m     \u001b[38;5;28;01mreturn\u001b[39;00m \u001b[38;5;28mself\u001b[39m\u001b[38;5;241m.\u001b[39m_getitem_multilevel(key)\n\u001b[1;32m-> 3505\u001b[0m indexer \u001b[38;5;241m=\u001b[39m \u001b[38;5;28;43mself\u001b[39;49m\u001b[38;5;241;43m.\u001b[39;49m\u001b[43mcolumns\u001b[49m\u001b[38;5;241;43m.\u001b[39;49m\u001b[43mget_loc\u001b[49m\u001b[43m(\u001b[49m\u001b[43mkey\u001b[49m\u001b[43m)\u001b[49m\n\u001b[0;32m   3506\u001b[0m \u001b[38;5;28;01mif\u001b[39;00m is_integer(indexer):\n\u001b[0;32m   3507\u001b[0m     indexer \u001b[38;5;241m=\u001b[39m [indexer]\n",
      "File \u001b[1;32mD:\\anaconda3\\lib\\site-packages\\pandas\\core\\indexes\\base.py:3623\u001b[0m, in \u001b[0;36mIndex.get_loc\u001b[1;34m(self, key, method, tolerance)\u001b[0m\n\u001b[0;32m   3621\u001b[0m     \u001b[38;5;28;01mreturn\u001b[39;00m \u001b[38;5;28mself\u001b[39m\u001b[38;5;241m.\u001b[39m_engine\u001b[38;5;241m.\u001b[39mget_loc(casted_key)\n\u001b[0;32m   3622\u001b[0m \u001b[38;5;28;01mexcept\u001b[39;00m \u001b[38;5;167;01mKeyError\u001b[39;00m \u001b[38;5;28;01mas\u001b[39;00m err:\n\u001b[1;32m-> 3623\u001b[0m     \u001b[38;5;28;01mraise\u001b[39;00m \u001b[38;5;167;01mKeyError\u001b[39;00m(key) \u001b[38;5;28;01mfrom\u001b[39;00m \u001b[38;5;21;01merr\u001b[39;00m\n\u001b[0;32m   3624\u001b[0m \u001b[38;5;28;01mexcept\u001b[39;00m \u001b[38;5;167;01mTypeError\u001b[39;00m:\n\u001b[0;32m   3625\u001b[0m     \u001b[38;5;66;03m# If we have a listlike key, _check_indexing_error will raise\u001b[39;00m\n\u001b[0;32m   3626\u001b[0m     \u001b[38;5;66;03m#  InvalidIndexError. Otherwise we fall through and re-raise\u001b[39;00m\n\u001b[0;32m   3627\u001b[0m     \u001b[38;5;66;03m#  the TypeError.\u001b[39;00m\n\u001b[0;32m   3628\u001b[0m     \u001b[38;5;28mself\u001b[39m\u001b[38;5;241m.\u001b[39m_check_indexing_error(key)\n",
      "\u001b[1;31mKeyError\u001b[0m: 1988"
     ]
    }
   ],
   "source": [
    "########## Q7\n",
    "#Your code here\n",
    "##https://towardsdatascience.com/how-to-group-yearly-data-by-periods-5199a1dba5db\n",
    "year=1984\n",
    "#range=year+5\n",
    "#range=tuple(range(1984))\n",
    "cols=df[[\"Year\",\"Combined MPG\"]]\n",
    "years1=year+5\n",
    "years2=year+4\n",
    "#df[years1 & years2]\n",
    "#print(yearscols)\n",
    "#interval=df.loc[df.Year==pd.Interval(left=1984,right=1988)]\n",
    "#print(interval)"
   ]
  },
  {
   "cell_type": "code",
   "execution_count": null,
   "id": "da38ae2c-fea7-4062-b08b-8a81702b10cd",
   "metadata": {},
   "outputs": [],
   "source": []
  }
 ],
 "metadata": {
  "kernelspec": {
   "display_name": "Python 3 (ipykernel)",
   "language": "python",
   "name": "python3"
  },
  "language_info": {
   "codemirror_mode": {
    "name": "ipython",
    "version": 3
   },
   "file_extension": ".py",
   "mimetype": "text/x-python",
   "name": "python",
   "nbconvert_exporter": "python",
   "pygments_lexer": "ipython3",
   "version": "3.9.12"
  }
 },
 "nbformat": 4,
 "nbformat_minor": 5
}
